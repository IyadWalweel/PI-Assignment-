{
 "cells": [
  {
   "cell_type": "code",
   "execution_count": 37,
   "metadata": {},
   "outputs": [
    {
     "data": {
      "image/png": "[encoded data removed]",
      "text/plain": [
       "<Figure size 432x288 with 1 Axes>"
      ]
     },
     "metadata": {
      "needs_background": "light"
     },
     "output_type": "display_data"
    }
   ],
   "source": [
    "a=[0,0]\n",
    "b=[0,2]\n",
    "c=[2,0]\n",
    "d=[2,2]\n",
    "width = c[0] - a[0]\n",
    "height = d[1] - a[1]\n",
    "lims = (0, 2)\n",
    "\n",
    "import matplotlib.pyplot as plt\n",
    "import matplotlib.patches as patches\n",
    "import random \n",
    "%matplotlib inline\n",
    "\n",
    "plt.axes()\n",
    "circle = plt.Circle((1, 1), radius=1,fc='r')\n",
    "Rectangle =patches.Rectangle((0, 0), width, height)\n",
    "plt.gca().add_patch(Rectangle)\n",
    "plt.gca().add_patch(circle)\n",
    "plt.ylim(lims)\n",
    "plt.xlim(lims)\n",
    "\n",
    "plt.axis('scaled')\n",
    "plt.show()"
   ]
  },
  {
   "cell_type": "code",
   "execution_count": 5,
   "metadata": {},
   "outputs": [
    {
     "name": "stdout",
     "output_type": "stream",
     "text": [
      "Enter No. of Tries : \n",
      "10000\n",
      "ــــــــــــــــــــــــــــــــــــــــــــــــ\n",
      "2040\n",
      "0.204\n"
     ]
    }
   ],
   "source": [
    "import random\n",
    "print(\"Enter No. of Tries : \")\n",
    "n=int(input())\n",
    "print(\"ــــــــــــــــــــــــــــــــــــــــــــــــ\")\n",
    "k=0\n",
    "for i in range(n):\n",
    "    x = random.uniform(0.0,2.0)  # to get a random float number between a float range\n",
    "    y = random.uniform(0.0,2.0)\n",
    "    if (x**2 + y**2) <= 1:\n",
    "        k+=1\n",
    "print(k)\n",
    "print(k/n)\n"
   ]
  },
  {
   "cell_type": "code",
   "execution_count": null,
   "metadata": {},
   "outputs": [],
   "source": []
  },
  {
   "cell_type": "code",
   "execution_count": null,
   "metadata": {},
   "outputs": [],
   "source": []
  }
 ],
 "metadata": {
  "kernelspec": {
   "display_name": "Python 3",
   "language": "python",
   "name": "python3"
  },
  "language_info": {
   "codemirror_mode": {
    "name": "ipython",
    "version": 3
   },
   "file_extension": ".py",
   "mimetype": "text/x-python",
   "name": "python",
   "nbconvert_exporter": "python",
   "pygments_lexer": "ipython3",
   "version": "3.7.3"
  }
 },
 "nbformat": 4,
 "nbformat_minor": 2
}
